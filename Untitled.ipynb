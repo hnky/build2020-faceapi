{
 "cells": [
  {
   "cell_type": "code",
   "execution_count": null,
   "metadata": {},
   "outputs": [],
   "source": [
    "import asyncio\n",
    "import io\n",
    "import glob\n",
    "import os\n",
    "import sys\n",
    "import time\n",
    "import uuid\n",
    "import requests\n",
    "from urllib.parse import urlparse\n",
    "from io import BytesIO\n",
    "from PIL import Image, ImageDraw, ImageFont\n",
    "from azure.cognitiveservices.vision.face import FaceClient\n",
    "from msrest.authentication import CognitiveServicesCredentials\n",
    "from azure.cognitiveservices.vision.face.models import TrainingStatusType, Person, SnapshotObjectType, OperationStatusType"
   ]
  },
  {
   "cell_type": "code",
   "execution_count": null,
   "metadata": {},
   "outputs": [],
   "source": [
    "font = ImageFont.truetype(\"arial.ttf\", 40)"
   ]
  },
  {
   "cell_type": "code",
   "execution_count": null,
   "metadata": {},
   "outputs": [],
   "source": [
    "ENDPOINT = \"\"\n",
    "KEY = \"\""
   ]
  },
  {
   "cell_type": "code",
   "execution_count": null,
   "metadata": {},
   "outputs": [],
   "source": [
    "face_client = FaceClient(ENDPOINT, CognitiveServicesCredentials(KEY))"
   ]
  },
  {
   "cell_type": "code",
   "execution_count": null,
   "metadata": {},
   "outputs": [],
   "source": [
    "def getRectangle(faceDictionary):\n",
    "    rect = faceDictionary.face_rectangle\n",
    "    left = rect.left\n",
    "    top = rect.top\n",
    "    right = left + rect.width\n",
    "    bottom = top + rect.height\n",
    "    return ((left, top), (right, bottom))"
   ]
  },
  {
   "cell_type": "code",
   "execution_count": null,
   "metadata": {},
   "outputs": [],
   "source": [
    "'''\n",
    "Detect faces in an image\n",
    "'''\n",
    "test_image_array = glob.glob(os.path.join(\"70s Show\", \"everyone.jpg\"))\n",
    "image = open(test_image_array[0], 'r+b')\n",
    "    \n",
    "detected_faces = face_client.face.detect_with_stream(image)\n",
    "\n",
    "img = Image.open(os.path.join(\"70s Show\", \"everyone.jpg\"))\n",
    "draw = ImageDraw.Draw(img)\n",
    "\n",
    "for face in detected_faces:\n",
    "    draw.rectangle(getRectangle(face), outline='red')\n",
    "\n",
    "img.show()"
   ]
  },
  {
   "cell_type": "code",
   "execution_count": null,
   "metadata": {},
   "outputs": [],
   "source": [
    "'''\n",
    "Create a person group\n",
    "'''\n",
    "PERSON_GROUP_ID = '70s-show-with-henk'\n",
    "face_client.person_group.create(person_group_id=PERSON_GROUP_ID, name=PERSON_GROUP_ID)"
   ]
  },
  {
   "cell_type": "code",
   "execution_count": null,
   "metadata": {},
   "outputs": [],
   "source": [
    "'''\n",
    "Add persons with faces to the PersonGroup\n",
    "'''\n",
    "training_dir = \"70s Show/train\"\n",
    "for root, dirs, files in os.walk(training_dir):\n",
    "    for filename in files:\n",
    "        name = filename.replace(\".jpg\",\"\")\n",
    "        print(name)\n",
    "        \n",
    "        new_person = face_client.person_group_person.create(PERSON_GROUP_ID,name)\n",
    "        \n",
    "        w = open(os.path.join(training_dir, filename), 'r+b')\n",
    "        face_client.person_group_person.add_face_from_stream(PERSON_GROUP_ID, new_person.person_id, w)"
   ]
  },
  {
   "cell_type": "code",
   "execution_count": null,
   "metadata": {},
   "outputs": [],
   "source": [
    "'''\n",
    "Train PersonGroup\n",
    "'''\n",
    "print()\n",
    "print('Training the person group...')\n",
    "# Train the person group\n",
    "face_client.person_group.train(PERSON_GROUP_ID)\n",
    "\n",
    "while (True):\n",
    "    training_status = face_client.person_group.get_training_status(PERSON_GROUP_ID)\n",
    "    print(\"Training status: {}.\".format(training_status.status))\n",
    "    print()\n",
    "    if (training_status.status is TrainingStatusType.succeeded):\n",
    "        break\n",
    "    elif (training_status.status is TrainingStatusType.failed):\n",
    "        sys.exit('Training the person group has failed.')\n",
    "    time.sleep(5)"
   ]
  },
  {
   "cell_type": "code",
   "execution_count": null,
   "metadata": {},
   "outputs": [],
   "source": [
    "'''\n",
    "Identify faces in an image\n",
    "'''\n",
    "test_image_array = glob.glob(os.path.join(\"70s Show\", \"everyone_WITH_HENK.jpg\"))\n",
    "image = open(test_image_array[0], 'r+b')\n",
    "    \n",
    "detected_faces = face_client.face.detect_with_stream(image)\n",
    "\n",
    "face_ids = []\n",
    "for face in detected_faces:\n",
    "    face_ids.append(face.face_id)    \n",
    "    \n",
    "results = face_client.face.identify(face_ids, PERSON_GROUP_ID)    \n",
    "\n",
    "img = Image.open(os.path.join(\"70s Show\", \"everyone_WITH_HENK.jpg\"))\n",
    "draw = ImageDraw.Draw(img)\n",
    "\n",
    "for face in detected_faces:\n",
    "    name = \"??\"\n",
    "    for person in results:\n",
    "        if person.face_id == face.face_id:\n",
    "            detected_person = face_client.person_group_person.get(person_group_id=PERSON_GROUP_ID, person_id=person.candidates[0].person_id)\n",
    "            name = detected_person.name\n",
    "    \n",
    "    \n",
    "    draw.rectangle(getRectangle(face), outline='red')\n",
    "    textPosition = (face.face_rectangle.left, face.face_rectangle.top + face.face_rectangle.height)\n",
    "    draw.text(textPosition,name,font=font,fill=(255,0,0,255))    \n",
    "\n",
    "img.show()"
   ]
  },
  {
   "cell_type": "code",
   "execution_count": null,
   "metadata": {},
   "outputs": [],
   "source": []
  }
 ],
 "metadata": {
  "kernelspec": {
   "display_name": "Python 3",
   "language": "python",
   "name": "python3"
  },
  "language_info": {
   "codemirror_mode": {
    "name": "ipython",
    "version": 3
   },
   "file_extension": ".py",
   "mimetype": "text/x-python",
   "name": "python",
   "nbconvert_exporter": "python",
   "pygments_lexer": "ipython3",
   "version": "3.7.7"
  }
 },
 "nbformat": 4,
 "nbformat_minor": 4
}
